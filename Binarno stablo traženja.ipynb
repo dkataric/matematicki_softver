{
 "cells": [
  {
   "cell_type": "markdown",
   "metadata": {},
   "source": [
    "Binarno stablo traženja\n",
    "============"
   ]
  },
  {
   "cell_type": "markdown",
   "metadata": {},
   "source": [
    "**Binarno stablo** T je konačan skup podataka istog tipa koje zovemo **čvorovi**. Pri tome vrijedi:\n",
    "- T je prazan skup (prazno stablo), ili\n",
    "- postoji istaknuti čvor r koji se zove **korijen** od T, a ostali čvori grade uređeni par (T<sub>L</sub>,T<sub>R</sub>) disjunktnih (manjih) binarnih stabala."
   ]
  },
  {
   "cell_type": "markdown",
   "metadata": {},
   "source": [
    "Definicija je očito reurzivna. T<sub>L</sub> i T<sub>R</sub> su **podstabla** korijena te ujedno lijevo, odnosno, desno **dijete** korijena. Korijen je njihov **roditelj**. Djeca istog čvora zovu se **braća**. Čvor bez djece naziva se **list**."
   ]
  },
  {
   "cell_type": "code",
   "execution_count": 2,
   "metadata": {},
   "outputs": [
    {
     "data": {
      "text/html": [
       "<img src=\"https://www.tutorialspoint.com/data_structures_algorithms/images/binary_tree.jpg\"/>"
      ],
      "text/plain": [
       "<IPython.core.display.Image object>"
      ]
     },
     "execution_count": 2,
     "metadata": {},
     "output_type": "execute_result"
    }
   ],
   "source": [
    "from IPython.display import Image\n",
    "Image(url='https://www.tutorialspoint.com/data_structures_algorithms/images/binary_tree.jpg')"
   ]
  },
  {
   "cell_type": "markdown",
   "metadata": {},
   "source": [
    "Binarno stablo T je **binarno stablo traženja** ako su ispunjeni sljedeći uvjeti:\n",
    "- čvorvi od T su označeni podacima nekog tipa na kojem je definiran totalni uređaj ≤.\n",
    "- neka je i bilo koji čvor od T. Tada su oznake svih čvorova u lijevom podstablu od i manje od oznake od i. Također, oznake svih čvorova u desnom podstablu od i su veće ili jednake od oznake od i."
   ]
  },
  {
   "cell_type": "markdown",
   "metadata": {},
   "source": [
    "### Načini obilaska stabla"
   ]
  },
  {
   "cell_type": "code",
   "execution_count": 3,
   "metadata": {},
   "outputs": [
    {
     "data": {
      "text/html": [
       "<img src=\"https://cdn-images-1.medium.com/max/300/1*KXQXUL-lLX140J959HCoxA.png\"/>"
      ],
      "text/plain": [
       "<IPython.core.display.Image object>"
      ]
     },
     "execution_count": 3,
     "metadata": {},
     "output_type": "execute_result"
    }
   ],
   "source": [
    "from IPython.display import Image\n",
    "Image(url='https://cdn-images-1.medium.com/max/300/1*KXQXUL-lLX140J959HCoxA.png')"
   ]
  },
  {
   "cell_type": "markdown",
   "metadata": {},
   "source": [
    "Na slici vidimo primjer binarnog stabla traženja. Postoje tri načina obilaska stabla koja se također implementiraju rekurzivno.\n",
    "##### Preorder\n",
    "1. Posjeti se korijen.\n",
    "2. Obiđe se lijevo podstablo preorder obilaskom.\n",
    "3. Obiđe se desno podstablo preorder obilaskom.\n",
    "\n",
    "Redoslijed sa slike:  8-3-1-6-4-7-10-14-13"
   ]
  },
  {
   "cell_type": "markdown",
   "metadata": {},
   "source": [
    "##### Inorder\n",
    "1. Obiđe se lijevo podstablo inorder obilaskom.\n",
    "2. Posjeti se korijen.\n",
    "3. Obiđe se desno podstablo inorder obilaskom.\n",
    "\n",
    "Redoslijed sa slike: 1-3-4-6-7-8-10-13-14.\n",
    "Primjetimo da ovaj način obilaska daje uzlazno sortirani niz."
   ]
  },
  {
   "cell_type": "markdown",
   "metadata": {},
   "source": [
    "##### Postorder: \n",
    "1. Obiđe se lijevo podstablo postorder obilaskom.\n",
    "2. Obiđe se desno podstablo postorder obilaskom.\n",
    "3. Posjeti se korijen.\n",
    "\n",
    "Redoslijed sa slike: 1-4-7-6-3-13-14-10-8"
   ]
  },
  {
   "cell_type": "markdown",
   "metadata": {},
   "source": [
    "### Implementacija Binarnog stabla traženja"
   ]
  },
  {
   "cell_type": "markdown",
   "metadata": {},
   "source": [
    "Implementirat ćemo samo funkcije koje će nam biti potrebne u nastavku, a to su:\n",
    "\n",
    "- funkcija **insert** za ubacivanje elemenata u stablo kreće od korijena. Prvo provjerava da li je novi podatak manji od korijena, pa u slučaju da je manji gleda se lijevo dijete te se ponovno uspoređuje s tim čvorom, u slučaju da je veći od korijena novi čvor koji se gleda je desno dijete i tako skroz dok ne nađemo na slobodni čvor. Kada je novi podatak jednak kao i čvor tada se ništa ne događa kako ne bi imali duple elemente. \n",
    "- funkcija **find** radi gotovo istu stvar. Uspoređuje na isti način skroz dok ne pronađe element ili ne dođe do kraja stabla.\n",
    "- funkcije za obilazak stabla su gotovo identične. Sve rade rekurzivno, a razlika je u tome što **preorder** prvo ispisuje ime čvora(krenuvši od korijena), zatim ulazi u lijevo pa desno dijete. Funkcija **inorder** prvo ulazi u lijevo dijete pa ispisuje čvor te na kraju ulazi u desno dijete te na kraju funkcija **postorder** prvo ulazi u lijevo dijete, zatim desno i na kraju ispisuje čvor."
   ]
  },
  {
   "cell_type": "markdown",
   "metadata": {},
   "source": [
    "Nakon implementacije ubacivat ćemo elemente u stablo da bi dobili isto ono kao na prethodnoj slici.\n",
    "S obzirom da smo objasnili kako radi funkcija insert elemente bi trebali ubaciti sljedećim redom: 8-3-10-14-13-1-6-4-7. Na kraju ćemo obići stablo na sva tri načina da se uvjerimo kako zaista radi."
   ]
  },
  {
   "cell_type": "code",
   "execution_count": 13,
   "metadata": {},
   "outputs": [
    {
     "name": "stdout",
     "output_type": "stream",
     "text": [
      "PreOrder:\n",
      "8\n",
      "3\n",
      "1\n",
      "6\n",
      "4\n",
      "7\n",
      "10\n",
      "14\n",
      "13\n",
      "InOrder:\n",
      "1\n",
      "3\n",
      "4\n",
      "6\n",
      "7\n",
      "8\n",
      "10\n",
      "13\n",
      "14\n",
      "PostOrder:\n",
      "1\n",
      "4\n",
      "7\n",
      "6\n",
      "3\n",
      "13\n",
      "14\n",
      "10\n",
      "8\n"
     ]
    }
   ],
   "source": [
    "inorder_polje = []\n",
    "\n",
    "class Node:\n",
    "    def __init__(self, val):\n",
    "        self.value = val\n",
    "        self.leftChild = None\n",
    "        self.rightChild = None\n",
    "        \n",
    "    def insert(self, data):\n",
    "        if self.value == data:\n",
    "            return False\n",
    "        elif self.value > data:\n",
    "            if self.leftChild:\n",
    "                return self.leftChild.insert(data)\n",
    "            else:\n",
    "                self.leftChild = Node(data)\n",
    "                return True;\n",
    "        else:\n",
    "            if self.rightChild:\n",
    "                return self.rightChild.insert(data)\n",
    "            else:\n",
    "                self.rightChild = Node(data)\n",
    "                return True\n",
    "    \n",
    "    def find(self, data):\n",
    "        if (self.value == data):\n",
    "            return True\n",
    "        elif self.value > data:\n",
    "            if self.leftChild:\n",
    "                return self.leftChild.find(data)\n",
    "            else:\n",
    "                return False\n",
    "        else:\n",
    "            if self.rightChild:\n",
    "                return self.rightChild.find(data)\n",
    "            else:\n",
    "                return False\n",
    "    \n",
    "    def preorder(self):\n",
    "        if self:\n",
    "            print(str(self.value))\n",
    "            if self.leftChild:\n",
    "                self.leftChild.preorder()\n",
    "            if self.rightChild:\n",
    "                self.rightChild.preorder()\n",
    "    \n",
    "    def postorder(self):\n",
    "        if self:\n",
    "            if self.leftChild:\n",
    "                self.leftChild.postorder()\n",
    "            if self.rightChild:\n",
    "                self.rightChild.postorder()\n",
    "            print(str(self.value))\n",
    "    \n",
    "    def inorder(self):\n",
    "        if self:\n",
    "            if self.leftChild:\n",
    "                self.leftChild.inorder()\n",
    "            print(str(self.value))\n",
    "            if self.rightChild:\n",
    "                self.rightChild.inorder()\n",
    "            \n",
    "    def inorder_to_array(self):\n",
    "        if self:\n",
    "            if self.leftChild:\n",
    "                self.leftChild.inorder_to_array()\n",
    "            inorder_polje.append(int(self.value))\n",
    "            if self.rightChild:\n",
    "                self.rightChild.inorder_to_array()\n",
    "        \n",
    "            \n",
    "        \n",
    "class Tree:\n",
    "    def __init__(self):\n",
    "        self.root = None\n",
    "        \n",
    "    def insert(self, data):\n",
    "        if self.root:\n",
    "            return self.root.insert(data)\n",
    "        else:\n",
    "            self.root = Node(data)\n",
    "            return True\n",
    "        \n",
    "    def find(self, data):\n",
    "        if self.root:\n",
    "            return self.root.find(data)\n",
    "        else:\n",
    "            return False\n",
    "    \n",
    "    def preorder(self):\n",
    "        self.root.preorder()\n",
    "    \n",
    "    def postorder(self):\n",
    "        self.root.postorder()\n",
    "        \n",
    "    def inorder(self):\n",
    "        self.root.inorder()\n",
    "        \n",
    "    def inorder_to_array(self):\n",
    "        self.root.inorder_to_array()\n",
    "\n",
    "\n",
    "stablo = Tree()\n",
    "stablo.insert(8)\n",
    "stablo.insert(3)\n",
    "stablo.insert(10)\n",
    "stablo.insert(14)\n",
    "stablo.insert(13)\n",
    "stablo.insert(1)\n",
    "stablo.insert(6)\n",
    "stablo.insert(4)\n",
    "stablo.insert(7)\n",
    "\n",
    "print(\"PreOrder:\")\n",
    "stablo.preorder()\n",
    "print(\"InOrder:\")\n",
    "stablo.inorder()\n",
    "print(\"PostOrder:\")\n",
    "stablo.postorder()"
   ]
  },
  {
   "cell_type": "markdown",
   "metadata": {},
   "source": [
    "### Kreiranje i analiza podataka"
   ]
  },
  {
   "cell_type": "markdown",
   "metadata": {},
   "source": [
    "Sada ćemo kreirati te analizirati podatke i napraviti .txt datoteku koju ćemo koristiti za ispitivanje brzine binarnog stabla traženja kojeg smo implementirali.\n",
    "\n",
    "Podatci koje ćemo koristiti predstavljat će podatke jedne mobilne trgovine koju zanima koji se brendovi najviše prodaju. Dakle, ako kupac kupi nešto od marke \"Samsung\" u vrijednosti od 500$ trgovina bilježi par (Samsung, 500) itd. Kreirat ćemo 1000 takvih parova, odnosno računa."
   ]
  },
  {
   "cell_type": "code",
   "execution_count": 43,
   "metadata": {},
   "outputs": [],
   "source": [
    "import pandas as pd\n",
    "from numpy import random\n",
    "import matplotlib.pyplot as plt\n",
    "%matplotlib inline"
   ]
  },
  {
   "cell_type": "code",
   "execution_count": 44,
   "metadata": {},
   "outputs": [],
   "source": [
    "smartphone = ['Apple', 'Samsung', 'LG', 'HTC', 'Sony', 'Nokia', 'Blackberry', 'Motorola', 'Huawei']"
   ]
  },
  {
   "cell_type": "code",
   "execution_count": 45,
   "metadata": {},
   "outputs": [],
   "source": [
    "random.seed(500)\n",
    "random_smartphone = [smartphone[random.randint(low=0, high = len(smartphone))] for i in range(1000)]"
   ]
  },
  {
   "cell_type": "code",
   "execution_count": 46,
   "metadata": {},
   "outputs": [],
   "source": [
    "cijena = [random.randint(low=20,high=1500) for i in range(1000)]\n",
    "racuniDataSet = list(zip(random_smartphone,cijena))"
   ]
  },
  {
   "cell_type": "code",
   "execution_count": 47,
   "metadata": {},
   "outputs": [
    {
     "data": {
      "text/html": [
       "<div>\n",
       "<style scoped>\n",
       "    .dataframe tbody tr th:only-of-type {\n",
       "        vertical-align: middle;\n",
       "    }\n",
       "\n",
       "    .dataframe tbody tr th {\n",
       "        vertical-align: top;\n",
       "    }\n",
       "\n",
       "    .dataframe thead th {\n",
       "        text-align: right;\n",
       "    }\n",
       "</style>\n",
       "<table border=\"1\" class=\"dataframe\">\n",
       "  <thead>\n",
       "    <tr style=\"text-align: right;\">\n",
       "      <th></th>\n",
       "      <th>Smartphone</th>\n",
       "      <th>Cijena</th>\n",
       "    </tr>\n",
       "  </thead>\n",
       "  <tbody>\n",
       "    <tr>\n",
       "      <th>0</th>\n",
       "      <td>Motorola</td>\n",
       "      <td>163</td>\n",
       "    </tr>\n",
       "    <tr>\n",
       "      <th>1</th>\n",
       "      <td>Samsung</td>\n",
       "      <td>94</td>\n",
       "    </tr>\n",
       "    <tr>\n",
       "      <th>2</th>\n",
       "      <td>Samsung</td>\n",
       "      <td>41</td>\n",
       "    </tr>\n",
       "    <tr>\n",
       "      <th>3</th>\n",
       "      <td>Huawei</td>\n",
       "      <td>198</td>\n",
       "    </tr>\n",
       "    <tr>\n",
       "      <th>4</th>\n",
       "      <td>Motorola</td>\n",
       "      <td>642</td>\n",
       "    </tr>\n",
       "    <tr>\n",
       "      <th>5</th>\n",
       "      <td>Samsung</td>\n",
       "      <td>998</td>\n",
       "    </tr>\n",
       "    <tr>\n",
       "      <th>6</th>\n",
       "      <td>Samsung</td>\n",
       "      <td>749</td>\n",
       "    </tr>\n",
       "    <tr>\n",
       "      <th>7</th>\n",
       "      <td>Nokia</td>\n",
       "      <td>856</td>\n",
       "    </tr>\n",
       "    <tr>\n",
       "      <th>8</th>\n",
       "      <td>LG</td>\n",
       "      <td>1030</td>\n",
       "    </tr>\n",
       "    <tr>\n",
       "      <th>9</th>\n",
       "      <td>LG</td>\n",
       "      <td>880</td>\n",
       "    </tr>\n",
       "  </tbody>\n",
       "</table>\n",
       "</div>"
      ],
      "text/plain": [
       "  Smartphone  Cijena\n",
       "0   Motorola     163\n",
       "1    Samsung      94\n",
       "2    Samsung      41\n",
       "3     Huawei     198\n",
       "4   Motorola     642\n",
       "5    Samsung     998\n",
       "6    Samsung     749\n",
       "7      Nokia     856\n",
       "8         LG    1030\n",
       "9         LG     880"
      ]
     },
     "execution_count": 47,
     "metadata": {},
     "output_type": "execute_result"
    }
   ],
   "source": [
    "df = pd.DataFrame(data = racuniDataSet, columns=['Smartphone', 'Cijena'])\n",
    "df[:10]"
   ]
  },
  {
   "cell_type": "code",
   "execution_count": 48,
   "metadata": {},
   "outputs": [],
   "source": [
    "df.to_csv('racuni_po_markama.txt',index=False,header=False)"
   ]
  },
  {
   "cell_type": "code",
   "execution_count": 49,
   "metadata": {},
   "outputs": [],
   "source": [
    "Location = r'racuni_po_markama.txt'"
   ]
  },
  {
   "cell_type": "code",
   "execution_count": 69,
   "metadata": {},
   "outputs": [
    {
     "data": {
      "text/html": [
       "<div>\n",
       "<style scoped>\n",
       "    .dataframe tbody tr th:only-of-type {\n",
       "        vertical-align: middle;\n",
       "    }\n",
       "\n",
       "    .dataframe tbody tr th {\n",
       "        vertical-align: top;\n",
       "    }\n",
       "\n",
       "    .dataframe thead th {\n",
       "        text-align: right;\n",
       "    }\n",
       "</style>\n",
       "<table border=\"1\" class=\"dataframe\">\n",
       "  <thead>\n",
       "    <tr style=\"text-align: right;\">\n",
       "      <th></th>\n",
       "      <th>Smartphone</th>\n",
       "      <th>Cijena</th>\n",
       "    </tr>\n",
       "  </thead>\n",
       "  <tbody>\n",
       "    <tr>\n",
       "      <th>0</th>\n",
       "      <td>Motorola</td>\n",
       "      <td>163</td>\n",
       "    </tr>\n",
       "    <tr>\n",
       "      <th>1</th>\n",
       "      <td>Samsung</td>\n",
       "      <td>94</td>\n",
       "    </tr>\n",
       "    <tr>\n",
       "      <th>2</th>\n",
       "      <td>Samsung</td>\n",
       "      <td>41</td>\n",
       "    </tr>\n",
       "    <tr>\n",
       "      <th>3</th>\n",
       "      <td>Huawei</td>\n",
       "      <td>198</td>\n",
       "    </tr>\n",
       "    <tr>\n",
       "      <th>4</th>\n",
       "      <td>Motorola</td>\n",
       "      <td>642</td>\n",
       "    </tr>\n",
       "  </tbody>\n",
       "</table>\n",
       "</div>"
      ],
      "text/plain": [
       "  Smartphone  Cijena\n",
       "0   Motorola     163\n",
       "1    Samsung      94\n",
       "2    Samsung      41\n",
       "3     Huawei     198\n",
       "4   Motorola     642"
      ]
     },
     "execution_count": 69,
     "metadata": {},
     "output_type": "execute_result"
    }
   ],
   "source": [
    "df = pd.read_csv(Location, names=['Smartphone','Cijena'])\n",
    "df.head()"
   ]
  },
  {
   "cell_type": "code",
   "execution_count": 73,
   "metadata": {},
   "outputs": [
    {
     "name": "stdout",
     "output_type": "stream",
     "text": [
      "Motorola\n",
      "Samsung\n",
      "Huawei\n",
      "Nokia\n",
      "LG\n",
      "HTC\n",
      "Blackberry\n",
      "Apple\n",
      "Sony\n"
     ]
    }
   ],
   "source": [
    "for x in df['Smartphone'].unique():\n",
    "    print(x)"
   ]
  },
  {
   "cell_type": "code",
   "execution_count": 74,
   "metadata": {},
   "outputs": [
    {
     "data": {
      "text/html": [
       "<div>\n",
       "<style scoped>\n",
       "    .dataframe tbody tr th:only-of-type {\n",
       "        vertical-align: middle;\n",
       "    }\n",
       "\n",
       "    .dataframe tbody tr th {\n",
       "        vertical-align: top;\n",
       "    }\n",
       "\n",
       "    .dataframe thead th {\n",
       "        text-align: right;\n",
       "    }\n",
       "</style>\n",
       "<table border=\"1\" class=\"dataframe\">\n",
       "  <thead>\n",
       "    <tr style=\"text-align: right;\">\n",
       "      <th></th>\n",
       "      <th>Cijena</th>\n",
       "    </tr>\n",
       "    <tr>\n",
       "      <th>Smartphone</th>\n",
       "      <th></th>\n",
       "    </tr>\n",
       "  </thead>\n",
       "  <tbody>\n",
       "    <tr>\n",
       "      <th>Apple</th>\n",
       "      <td>90037</td>\n",
       "    </tr>\n",
       "    <tr>\n",
       "      <th>Blackberry</th>\n",
       "      <td>92181</td>\n",
       "    </tr>\n",
       "    <tr>\n",
       "      <th>HTC</th>\n",
       "      <td>85792</td>\n",
       "    </tr>\n",
       "    <tr>\n",
       "      <th>Huawei</th>\n",
       "      <td>88032</td>\n",
       "    </tr>\n",
       "    <tr>\n",
       "      <th>LG</th>\n",
       "      <td>80080</td>\n",
       "    </tr>\n",
       "    <tr>\n",
       "      <th>Motorola</th>\n",
       "      <td>58267</td>\n",
       "    </tr>\n",
       "    <tr>\n",
       "      <th>Nokia</th>\n",
       "      <td>79305</td>\n",
       "    </tr>\n",
       "    <tr>\n",
       "      <th>Samsung</th>\n",
       "      <td>101255</td>\n",
       "    </tr>\n",
       "    <tr>\n",
       "      <th>Sony</th>\n",
       "      <td>93589</td>\n",
       "    </tr>\n",
       "  </tbody>\n",
       "</table>\n",
       "</div>"
      ],
      "text/plain": [
       "            Cijena\n",
       "Smartphone        \n",
       "Apple        90037\n",
       "Blackberry   92181\n",
       "HTC          85792\n",
       "Huawei       88032\n",
       "LG           80080\n",
       "Motorola     58267\n",
       "Nokia        79305\n",
       "Samsung     101255\n",
       "Sony         93589"
      ]
     },
     "execution_count": 74,
     "metadata": {},
     "output_type": "execute_result"
    }
   ],
   "source": [
    "name = df.groupby('Smartphone')\n",
    "df = name.sum()\n",
    "df"
   ]
  },
  {
   "cell_type": "code",
   "execution_count": 76,
   "metadata": {},
   "outputs": [
    {
     "data": {
      "text/html": [
       "<div>\n",
       "<style scoped>\n",
       "    .dataframe tbody tr th:only-of-type {\n",
       "        vertical-align: middle;\n",
       "    }\n",
       "\n",
       "    .dataframe tbody tr th {\n",
       "        vertical-align: top;\n",
       "    }\n",
       "\n",
       "    .dataframe thead th {\n",
       "        text-align: right;\n",
       "    }\n",
       "</style>\n",
       "<table border=\"1\" class=\"dataframe\">\n",
       "  <thead>\n",
       "    <tr style=\"text-align: right;\">\n",
       "      <th></th>\n",
       "      <th>Cijena</th>\n",
       "    </tr>\n",
       "    <tr>\n",
       "      <th>Smartphone</th>\n",
       "      <th></th>\n",
       "    </tr>\n",
       "  </thead>\n",
       "  <tbody>\n",
       "    <tr>\n",
       "      <th>Samsung</th>\n",
       "      <td>101255</td>\n",
       "    </tr>\n",
       "  </tbody>\n",
       "</table>\n",
       "</div>"
      ],
      "text/plain": [
       "            Cijena\n",
       "Smartphone        \n",
       "Samsung     101255"
      ]
     },
     "execution_count": 76,
     "metadata": {},
     "output_type": "execute_result"
    }
   ],
   "source": [
    "Sorted = df.sort_values(['Cijena'], ascending=False)\n",
    "Sorted.head(1)"
   ]
  },
  {
   "cell_type": "code",
   "execution_count": 78,
   "metadata": {},
   "outputs": [
    {
     "name": "stdout",
     "output_type": "stream",
     "text": [
      "Najprodavaniji brend\n"
     ]
    },
    {
     "data": {
      "text/html": [
       "<div>\n",
       "<style scoped>\n",
       "    .dataframe tbody tr th:only-of-type {\n",
       "        vertical-align: middle;\n",
       "    }\n",
       "\n",
       "    .dataframe tbody tr th {\n",
       "        vertical-align: top;\n",
       "    }\n",
       "\n",
       "    .dataframe thead th {\n",
       "        text-align: right;\n",
       "    }\n",
       "</style>\n",
       "<table border=\"1\" class=\"dataframe\">\n",
       "  <thead>\n",
       "    <tr style=\"text-align: right;\">\n",
       "      <th></th>\n",
       "      <th>Cijena</th>\n",
       "    </tr>\n",
       "    <tr>\n",
       "      <th>Smartphone</th>\n",
       "      <th></th>\n",
       "    </tr>\n",
       "  </thead>\n",
       "  <tbody>\n",
       "    <tr>\n",
       "      <th>Samsung</th>\n",
       "      <td>101255</td>\n",
       "    </tr>\n",
       "    <tr>\n",
       "      <th>Sony</th>\n",
       "      <td>93589</td>\n",
       "    </tr>\n",
       "    <tr>\n",
       "      <th>Blackberry</th>\n",
       "      <td>92181</td>\n",
       "    </tr>\n",
       "    <tr>\n",
       "      <th>Apple</th>\n",
       "      <td>90037</td>\n",
       "    </tr>\n",
       "    <tr>\n",
       "      <th>Huawei</th>\n",
       "      <td>88032</td>\n",
       "    </tr>\n",
       "    <tr>\n",
       "      <th>HTC</th>\n",
       "      <td>85792</td>\n",
       "    </tr>\n",
       "    <tr>\n",
       "      <th>LG</th>\n",
       "      <td>80080</td>\n",
       "    </tr>\n",
       "    <tr>\n",
       "      <th>Nokia</th>\n",
       "      <td>79305</td>\n",
       "    </tr>\n",
       "    <tr>\n",
       "      <th>Motorola</th>\n",
       "      <td>58267</td>\n",
       "    </tr>\n",
       "  </tbody>\n",
       "</table>\n",
       "</div>"
      ],
      "text/plain": [
       "            Cijena\n",
       "Smartphone        \n",
       "Samsung     101255\n",
       "Sony         93589\n",
       "Blackberry   92181\n",
       "Apple        90037\n",
       "Huawei       88032\n",
       "HTC          85792\n",
       "LG           80080\n",
       "Nokia        79305\n",
       "Motorola     58267"
      ]
     },
     "execution_count": 78,
     "metadata": {},
     "output_type": "execute_result"
    },
    {
     "data": {
      "image/png": "[encoded data removed]",
      "text/plain": [
       "<matplotlib.figure.Figure at 0xae0cad6c>"
      ]
     },
     "metadata": {},
     "output_type": "display_data"
    }
   ],
   "source": [
    "df['Cijena'].plot.bar()\n",
    "\n",
    "print(\"Najprodavaniji brend\")\n",
    "df.sort_values(by='Cijena', ascending=False)"
   ]
  },
  {
   "cell_type": "markdown",
   "metadata": {},
   "source": [
    "### Analiza brzine binarnog stabla traženja"
   ]
  },
  {
   "cell_type": "markdown",
   "metadata": {},
   "source": [
    "S obzirom da funkcije za pronalaženje i ubacivanje elemenata prolaze putom od korijena do nekog čvora vrijeme izvršavanja tih funkcija je ograničeno visinom stabla. Visina stabla varira između **log<sub>2</sub>(n+1)-1** te **n-1**, ovisno o tome kako su raspoređeni elementi u stablu. U ekstremnom slučaju stablo može biti ispruženo pa ima brzinu izvršavanja O(n),a također stablo može biti potpuno pa imati brzinu O(log(n)) gdje je n broju elemenata. Mi ćemo vidjeti brzinu izvršavanja u prosječnom slučaju te također brzinu kada je stablo ispruženo tj. kada mu ubacujemo sortirani niz."
   ]
  },
  {
   "cell_type": "markdown",
   "metadata": {},
   "source": [
    "Za početak ćemo u jedno stablo(*stablo_avg*) ubaciti sve cijene redom iz .txt datoteke.\n",
    "U drugo stablo (*stablo_max*) ćemo ubaciti sortirani niz koji ćemo dobiti preorder obilaskom prvog stabla. Za to ćemo koristiti posebnu funkciju koja će upisivati elemente u *inorder_polje* dok obilazi stablo.\n",
    "\n",
    "Na kraju nam je cilj izračunati vrijeme potrebno da se pronađe najveći element kod oba stabla i usporediti brzine."
   ]
  },
  {
   "cell_type": "code",
   "execution_count": 1,
   "metadata": {},
   "outputs": [],
   "source": [
    "import pandas as pd\n",
    "import numpy as np\n",
    "\n",
    "X = pd.read_csv('racuni_po_markama.txt', sep=\",\", header=None)\n",
    "\n",
    "X1 = []\n",
    "\n",
    "for i in range(len(X)):\n",
    "    X1.append(X[1][i])"
   ]
  },
  {
   "cell_type": "code",
   "execution_count": 14,
   "metadata": {},
   "outputs": [],
   "source": [
    "stablo_avg = Tree()\n",
    "for j in range(len(X1)):\n",
    "        stablo_avg.insert(X1[j])\n",
    "        \n",
    "stablo_avg.inorder_to_array()"
   ]
  },
  {
   "cell_type": "code",
   "execution_count": 18,
   "metadata": {},
   "outputs": [],
   "source": [
    "stablo_max = Tree()\n",
    "for k in range(len(inorder_polje)):\n",
    "    stablo_max.insert(inorder_polje[k])"
   ]
  },
  {
   "cell_type": "markdown",
   "metadata": {},
   "source": [
    "U stablima *stablo_avg* i *stablo_max* su pohranjeni isti elementi u drugom rasporedu. Sada ćemo pronaći najveći element koji smo ubacili u stablo iz polja *X1*, odnosno istog tog sortiranog polja *inorder_polje* i izračunati brzinu pronalaženja u oba stabla."
   ]
  },
  {
   "cell_type": "code",
   "execution_count": 21,
   "metadata": {},
   "outputs": [
    {
     "name": "stdout",
     "output_type": "stream",
     "text": [
      "1499\n",
      "1499\n"
     ]
    }
   ],
   "source": [
    "print(max(X1))\n",
    "print(max(inorder_polje))"
   ]
  },
  {
   "cell_type": "code",
   "execution_count": 22,
   "metadata": {},
   "outputs": [
    {
     "name": "stdout",
     "output_type": "stream",
     "text": [
      "0.0001983642578125\n",
      "0.0013599395751953125\n"
     ]
    }
   ],
   "source": [
    "import time\n",
    "\n",
    "start = time.time()\n",
    "stablo_avg.find(1499)\n",
    "end = time.time()\n",
    "print(end - start)\n",
    "\n",
    "start = time.time()\n",
    "stablo_max.find(1499)\n",
    "end = time.time()\n",
    "print(end - start)\n"
   ]
  },
  {
   "cell_type": "markdown",
   "metadata": {},
   "source": [
    "### Zaključak\n",
    "\n",
    "Binarno stablo traženja jako brzo pronalazi elemente. Ali kao što vidimo vremena se dosta razlikuju od najgoreg do prosječnog slučaja. U binarno stablo traženja u koje smo element ubacivali bez ikakvog reda vrijeme je iznosilo 0.19836ms, dok je za vrijeme u najgorem slučaju 1.35993ms što znači da je u prosječnom slučaju algoritam bio gotovo 7x brži. To znači da binarno stablo traženja trebamo koristiti ako imamo što veći \"nered\" među elementima, dok u slučajevima gdje je niz više sortiran - algoritam traženja će biti sporiji."
   ]
  },
  {
   "cell_type": "code",
   "execution_count": null,
   "metadata": {},
   "outputs": [],
   "source": []
  }
 ],
 "metadata": {
  "kernelspec": {
   "display_name": "Python 3",
   "language": "python",
   "name": "python3"
  },
  "language_info": {
   "codemirror_mode": {
    "name": "ipython",
    "version": 3
   },
   "file_extension": ".py",
   "mimetype": "text/x-python",
   "name": "python",
   "nbconvert_exporter": "python",
   "pygments_lexer": "ipython3",
   "version": "3.6.4"
  }
 },
 "nbformat": 4,
 "nbformat_minor": 2
}
